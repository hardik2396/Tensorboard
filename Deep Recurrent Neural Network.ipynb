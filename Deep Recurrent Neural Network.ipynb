{
 "cells": [
  {
   "cell_type": "code",
   "execution_count": 1,
   "metadata": {
    "collapsed": true
   },
   "outputs": [],
   "source": [
    "import tensorflow as tf\n"
   ]
  },
  {
   "cell_type": "code",
   "execution_count": 2,
   "metadata": {
    "collapsed": false
   },
   "outputs": [],
   "source": [
    "with tf.name_scope('Input'):\n",
    "    x = tf.placeholder(\"float\", [128, 100,100],name='Word_embedding')\n",
    "with tf.name_scope('Output'):    \n",
    "    target= tf.placeholder(\"float\", [128, 128],name='Sentiment')\n"
   ]
  },
  {
   "cell_type": "code",
   "execution_count": 3,
   "metadata": {
    "collapsed": false
   },
   "outputs": [],
   "source": [
    "with tf.name_scope('LSTM1'):\n",
    "    cell=tf.contrib.rnn.BasicLSTMCell(num_units=128,state_is_tuple=True,forget_bias=1.0)\n",
    "    val1,state1=tf.nn.dynamic_rnn(cell,x,dtype=tf.float32)"
   ]
  },
  {
   "cell_type": "code",
   "execution_count": 4,
   "metadata": {
    "collapsed": false
   },
   "outputs": [],
   "source": [
    "with tf.name_scope('LSTM2'):\n",
    "    cell=tf.contrib.rnn.GRUCell(num_units=128)\n",
    "    val2,state2=tf.nn.dynamic_rnn(cell,val1,dtype=tf.float32)"
   ]
  },
  {
   "cell_type": "code",
   "execution_count": 5,
   "metadata": {
    "collapsed": false
   },
   "outputs": [],
   "source": [
    "with tf.name_scope('LSTM3'):\n",
    "    cell=tf.contrib.rnn.BasicRNNCell(num_units=128)\n",
    "    val3,state3=tf.nn.dynamic_rnn(cell,val2,dtype=tf.float32)"
   ]
  },
  {
   "cell_type": "code",
   "execution_count": 6,
   "metadata": {
    "collapsed": false
   },
   "outputs": [],
   "source": [
    "with tf.name_scope('Loss'):\n",
    "    with tf.name_scope('Prediction'):\n",
    "        pred=tf.nn.softmax(state3)\n",
    "    with tf.name_scope('Loss'):\n",
    "        cross_entropy=tf.reduce_mean(tf.nn.softmax_cross_entropy_with_logits(logits=pred, labels=target))\n",
    "\n",
    "        \n",
    "    "
   ]
  },
  {
   "cell_type": "code",
   "execution_count": 7,
   "metadata": {
    "collapsed": false
   },
   "outputs": [],
   "source": [
    "with tf.name_scope('Training'):\n",
    "    optimize=tf.train.AdamOptimizer(learning_rate= 0.01)\n",
    "    minimize=optimize.minimize(cross_entropy)"
   ]
  },
  {
   "cell_type": "code",
   "execution_count": 8,
   "metadata": {
    "collapsed": true
   },
   "outputs": [],
   "source": [
    "sess=tf.Session()"
   ]
  },
  {
   "cell_type": "code",
   "execution_count": 9,
   "metadata": {
    "collapsed": false
   },
   "outputs": [
    {
     "name": "stdout",
     "output_type": "stream",
     "text": [
      "WARNING:tensorflow:Passing a `GraphDef` to the SummaryWriter is deprecated. Pass a `Graph` object instead, such as `sess.graph`.\n"
     ]
    }
   ],
   "source": [
    "# Set the logs writer to the folder /tmp/tensorflow_logs\n",
    "summary_writer = tf.summary.FileWriter('/home/nancy/Desktop/logs',graph_def=sess.graph_def)"
   ]
  },
  {
   "cell_type": "code",
   "execution_count": null,
   "metadata": {
    "collapsed": true
   },
   "outputs": [],
   "source": []
  }
 ],
 "metadata": {
  "kernelspec": {
   "display_name": "Python 2",
   "language": "python",
   "name": "python2"
  },
  "language_info": {
   "codemirror_mode": {
    "name": "ipython",
    "version": 2
   },
   "file_extension": ".py",
   "mimetype": "text/x-python",
   "name": "python",
   "nbconvert_exporter": "python",
   "pygments_lexer": "ipython2",
   "version": "2.7.6"
  }
 },
 "nbformat": 4,
 "nbformat_minor": 2
}
